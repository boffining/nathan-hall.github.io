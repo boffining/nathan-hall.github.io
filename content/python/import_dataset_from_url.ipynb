{
 "cells": [
  {
   "cell_type": "markdown",
   "metadata": {
    "collapsed": true
   },
   "source": [
    "Title: Load Dataset from URL \n",
    "Slug: load_dataset_from_url \n",
    "Summary: Use URLlib to load data that is located somewhere on the web. \n",
    "Date: 2016-11-26 12:00 \n",
    "Category: python \n",
    "Tags: \n",
    "Authors: Nate Hall"
   ]
  },
  {
   "cell_type": "markdown",
   "metadata": {},
   "source": [
    "<a href='http://nbviewer.jupyter.org/github/nathan-hall/nathan-hall.github.io/blob/pelican/content/python/import_dataset_from_url.ipynb' target='_blank'>Link to the full jupyter notebook.</a><br/>\n",
    "<a href='http://nbviewer.jupyter.org/github/nathan-hall/nathan-hall.github.io/blob/pelican/content/python/import_dataset_from_url_code.ipynb' target='_blank'>Link to the code only jupyter notebook.</a>"
   ]
  },
  {
   "cell_type": "markdown",
   "metadata": {},
   "source": [
    "We'll bring in data with urllib and then load it into our dataset as a csv."
   ]
  },
  {
   "cell_type": "code",
   "execution_count": 1,
   "metadata": {
    "collapsed": true
   },
   "outputs": [],
   "source": [
    "import urllib\n",
    "import pandas as pd"
   ]
  },
  {
   "cell_type": "markdown",
   "metadata": {},
   "source": [
    "### 1. Create a variable called \"data_url\" and paste in the URL as a string\n",
    "```python\n",
    "data_url = \"http://instantinate.com/data/sales_data.html\"\n",
    "```"
   ]
  },
  {
   "cell_type": "markdown",
   "metadata": {},
   "source": [
    "### 2. Call the urllib function with the urlretrieve method\n",
    "The first argument we pass is the variable with the link to the dataset. And the second argument is the name of the dataset.\n",
    "```python\n",
    "urllib.urlretrieve (data_url, \"sales.data\")\n",
    "```\n",
    "\n",
    "### 3. Create the \"data\" variable and use the pandas.read_csv method\n",
    "Pass the 'sales.data' argument to the read_csv method. Specify the delimiter for the dataset which in this case is spaces.\n",
    "```python\n",
    "data = pd.read_csv('sales.data', delimiter='\\s+')\n",
    "```\n",
    "\n",
    "### 4. Create a dataframe using the the .dataframe method\n",
    "Pass the data variable which read all the information from the url.\n",
    "```python\n",
    "df = pd.DataFrame(data)\n",
    "```\n",
    "\n",
    "### 5. Print out the .head( ) to confirm the dataset was loaded correctly.\n",
    "```python\n",
    "df.head()\n",
    "```"
   ]
  },
  {
   "cell_type": "markdown",
   "metadata": {},
   "source": [
    "### Here is the full code."
   ]
  },
  {
   "cell_type": "code",
   "execution_count": 18,
   "metadata": {
    "collapsed": false
   },
   "outputs": [
    {
     "data": {
      "text/html": [
       "<div>\n",
       "<table border=\"1\" class=\"dataframe\">\n",
       "  <thead>\n",
       "    <tr style=\"text-align: right;\">\n",
       "      <th></th>\n",
       "      <th>volume_sold</th>\n",
       "      <th>2015_margin</th>\n",
       "      <th>2015_q1_sales</th>\n",
       "      <th>2016_q1_sales</th>\n",
       "    </tr>\n",
       "  </thead>\n",
       "  <tbody>\n",
       "    <tr>\n",
       "      <th>0</th>\n",
       "      <td>18.420760</td>\n",
       "      <td>93.802281</td>\n",
       "      <td>337166.53</td>\n",
       "      <td>337804.05</td>\n",
       "    </tr>\n",
       "    <tr>\n",
       "      <th>1</th>\n",
       "      <td>4.776510</td>\n",
       "      <td>21.082425</td>\n",
       "      <td>22351.86</td>\n",
       "      <td>21736.63</td>\n",
       "    </tr>\n",
       "    <tr>\n",
       "      <th>2</th>\n",
       "      <td>16.602401</td>\n",
       "      <td>93.612494</td>\n",
       "      <td>277764.46</td>\n",
       "      <td>306942.27</td>\n",
       "    </tr>\n",
       "    <tr>\n",
       "      <th>3</th>\n",
       "      <td>4.296111</td>\n",
       "      <td>16.824704</td>\n",
       "      <td>16805.11</td>\n",
       "      <td>9307.75</td>\n",
       "    </tr>\n",
       "    <tr>\n",
       "      <th>4</th>\n",
       "      <td>8.156023</td>\n",
       "      <td>35.011457</td>\n",
       "      <td>54411.42</td>\n",
       "      <td>58939.90</td>\n",
       "    </tr>\n",
       "  </tbody>\n",
       "</table>\n",
       "</div>"
      ],
      "text/plain": [
       "   volume_sold  2015_margin  2015_q1_sales  2016_q1_sales\n",
       "0    18.420760    93.802281      337166.53      337804.05\n",
       "1     4.776510    21.082425       22351.86       21736.63\n",
       "2    16.602401    93.612494      277764.46      306942.27\n",
       "3     4.296111    16.824704       16805.11        9307.75\n",
       "4     8.156023    35.011457       54411.42       58939.90"
      ]
     },
     "execution_count": 18,
     "metadata": {},
     "output_type": "execute_result"
    }
   ],
   "source": [
    "data_url = \"http://instantinate.com/data/sales_data.html\"\n",
    "urllib.urlretrieve (data_url, \"sales.data\")\n",
    "data = pd.read_csv('sales.data', delimiter='\\s+')\n",
    "df = pd.DataFrame(data)\n",
    "df.head()"
   ]
  }
 ],
 "metadata": {
  "anaconda-cloud": {},
  "kernelspec": {
   "display_name": "Python [Root]",
   "language": "python",
   "name": "Python [Root]"
  },
  "language_info": {
   "codemirror_mode": {
    "name": "ipython",
    "version": 2
   },
   "file_extension": ".py",
   "mimetype": "text/x-python",
   "name": "python",
   "nbconvert_exporter": "python",
   "pygments_lexer": "ipython2",
   "version": "2.7.12"
  }
 },
 "nbformat": 4,
 "nbformat_minor": 0
}
