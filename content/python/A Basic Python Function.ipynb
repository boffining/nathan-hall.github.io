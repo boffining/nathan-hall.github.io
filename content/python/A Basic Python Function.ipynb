{
 "cells": [
  {
   "cell_type": "markdown",
   "metadata": {},
   "source": [
    "Title: A Basic Python Function Slug: a_basic_python_function Summary: The basics to making a python function. Date: 2016-11-23 12:00 Category: python Tags: Authors: Nate Hall"
   ]
  },
  {
   "cell_type": "markdown",
   "metadata": {},
   "source": [
    "<a href='http://nbviewer.jupyter.org/github/nathan-hall/nathan-hall.github.io/blob/pelican/content/wrangling_data/editing_column_names.ipynb'>Link to the full jupyter notebook.</a><br/>\n",
    "<a href='http://nbviewer.jupyter.org/github/nathan-hall/nathan-hall.github.io/blob/pelican/content/wrangling_data/editing_column_names_code.ipynb'>Link to the code only jupyter notebook.</a>"
   ]
  },
  {
   "cell_type": "markdown",
   "metadata": {},
   "source": [
    "## What do dictionaries and baking cakes have in common? Read below to find out."
   ]
  },
  {
   "cell_type": "markdown",
   "metadata": {},
   "source": [
    "### First we'll load in some data below.\n",
    "This is a list of dictionaries that contains information about different movies."
   ]
  },
  {
   "cell_type": "code",
   "execution_count": 3,
   "metadata": {
    "collapsed": true
   },
   "outputs": [],
   "source": [
    "#Loading in a movie ratings data set.\n",
    "movies = [\n",
    "{\n",
    "\"name\": \"Usual Suspects\", \n",
    "\"imdb\": 7.0,\n",
    "\"category\": \"Thriller\"\n",
    "},\n",
    "{\n",
    "\"name\": \"Hitman\",\n",
    "\"imdb\": 6.3,\n",
    "\"category\": \"Action\"\n",
    "},\n",
    "{\n",
    "\"name\": \"Dark Knight\",\n",
    "\"imdb\": 9.0,\n",
    "\"category\": \"Adventure\"\n",
    "},\n",
    "{\n",
    "\"name\": \"The Help\",\n",
    "\"imdb\": 8.0,\n",
    "\"category\": \"Drama\"\n",
    "},\n",
    "{\n",
    "\"name\": \"The Choice\",\n",
    "\"imdb\": 6.2,\n",
    "\"category\": \"Romance\"\n",
    "},\n",
    "{\n",
    "\"name\": \"Colonia\",\n",
    "\"imdb\": 7.4,\n",
    "\"category\": \"Romance\"\n",
    "},\n",
    "{\n",
    "\"name\": \"Love\",\n",
    "\"imdb\": 6.0,\n",
    "\"category\": \"Romance\"\n",
    "},\n",
    "{\n",
    "\"name\": \"Bride Wars\",\n",
    "\"imdb\": 5.4,\n",
    "\"category\": \"Romance\"\n",
    "},\n",
    "{\n",
    "\"name\": \"AlphaJet\",\n",
    "\"imdb\": 3.2,\n",
    "\"category\": \"War\"\n",
    "},\n",
    "{\n",
    "\"name\": \"Ringing Crime\",\n",
    "\"imdb\": 4.0,\n",
    "\"category\": \"Crime\"\n",
    "},\n",
    "{\n",
    "\"name\": \"Joking muck\",\n",
    "\"imdb\": 7.2,\n",
    "\"category\": \"Comedy\"\n",
    "},\n",
    "{\n",
    "\"name\": \"What is the name\",\n",
    "\"imdb\": 9.2,\n",
    "\"category\": \"Suspense\"\n",
    "},\n",
    "{\n",
    "\"name\": \"Detective\",\n",
    "\"imdb\": 7.0,\n",
    "\"category\": \"Suspense\"\n",
    "},\n",
    "{\n",
    "\"name\": \"Exam\",\n",
    "\"imdb\": 4.2,\n",
    "\"category\": \"Thriller\"\n",
    "},\n",
    "{\n",
    "\"name\": \"We Two\",\n",
    "\"imdb\": 7.2,\n",
    "\"category\": \"Romance\"\n",
    "}\n",
    "]"
   ]
  },
  {
   "cell_type": "markdown",
   "metadata": {},
   "source": [
    "### It starts with a def\n",
    " Every function needs a definition. Think of it like a normal dictionary. If you were to go look up a certain word you would need to know the first few letters to find it. But there also would only be one possible definition for that word in the dictionary. Python functions are the same in this regard, they need a unique name so that you can find it later.\n",
    "#### We're going to definie our function below:\n",
    "```python\n",
    "def genre_avg(cat):\n",
    "```\n",
    "### Wait a minute?! What's that \"cat\" thing in there?!?! (Your ingredients)\n",
    "That is a scary thing called a \"parameter\". It is basically the ingredients to your recipe. If you want to bake a cake you put ingredients into it and out comes a delicious cake. For parameters you \"pass\" these ingredients and then tell the function what to do with them and hopefully [crossesfingers] we get cake.\n",
    "### Create an empty list. (Get out a mixing bowl)\n",
    "The genre_avg list will hold all the results of our function.\n",
    "```python\n",
    "def genre_avg(cat):\n",
    "    genre_avg = []\n",
    "```\n",
    "### For Loop or not to For Loop (Measure the ingredients)\n",
    "We have the ingredients and the mixing bowl... so now we need to measure the ingredients. The for loop in this function goes through each statement in the dictionary above and measures it against the \"parameter\" we passed it. In this case we're interested only in movies that fall in the Action genre. So we measure out all the action movies from our dataset and then what? Can you see what happens next?\n",
    "```python\n",
    "def genre_avg(cat):\n",
    "    genre_avg = []\n",
    "    for x in movies:\n",
    "        if cat == x[\"category\"]:\n",
    "```\n",
    "### Append (Mix the ingredients)\n",
    "This takes all the ingredients (parameters) that you just measured and mixes them together. And where do you mix things? In the mixing bowl of course! So now all our ingredients have been measured and are back in our mixing bowl all neat and unbaked... hmm... I wonder what the next step is.\n",
    "```python\n",
    "def genre_avg(cat):\n",
    "    genre_avg = []\n",
    "    for x in movies:\n",
    "        if cat == x[\"category\"]:\n",
    "            genre_avg.append(x['imdb'])\n",
    "```\n",
    "### Return (Bake it!!!!)\n",
    "Now we bake all those nice ingredients to get the most perfect cake we ever could ask for. In this case, a perfect average of score of a particular genre in our movie dataset.\n",
    "```python\n",
    "def genre_avg(cat):\n",
    "    genre_avg = []\n",
    "    for x in movies:\n",
    "        if cat == x[\"category\"]:\n",
    "            genre_avg.append(x['imdb'])\n",
    "    return sum(genre_avg)/len(genre_avg)\n",
    "```\n",
    "### Now for the magic.\n",
    "This is not just any cake baking exercise. This is a magical cake machine that can give you any kind of cake you want so long as you give it the ingredients with the right \"parameter\". That's what is going on in the last statement after the function is defined. We reference that function and give it some ingredients and instantly we have some magic cake! How about that.\n",
    "```python\n",
    "genre_avg(\"Action\")\n",
    "```"
   ]
  },
  {
   "cell_type": "markdown",
   "metadata": {},
   "source": [
    "## Here's the whole code."
   ]
  },
  {
   "cell_type": "code",
   "execution_count": 1,
   "metadata": {
    "collapsed": true
   },
   "outputs": [],
   "source": [
    "def genre_avg(cat):\n",
    "    genre_avg = []\n",
    "    for x in movies:\n",
    "        if cat == x[\"category\"]:\n",
    "            genre_avg.append(x['imdb'])\n",
    "    return sum(genre_avg)/len(genre_avg)"
   ]
  },
  {
   "cell_type": "code",
   "execution_count": 4,
   "metadata": {
    "collapsed": false
   },
   "outputs": [
    {
     "data": {
      "text/plain": [
       "6.3"
      ]
     },
     "execution_count": 4,
     "metadata": {},
     "output_type": "execute_result"
    }
   ],
   "source": [
    "genre_avg(\"Action\")"
   ]
  }
 ],
 "metadata": {
  "anaconda-cloud": {},
  "kernelspec": {
   "display_name": "Python [Root]",
   "language": "python",
   "name": "Python [Root]"
  },
  "language_info": {
   "codemirror_mode": {
    "name": "ipython",
    "version": 2
   },
   "file_extension": ".py",
   "mimetype": "text/x-python",
   "name": "python",
   "nbconvert_exporter": "python",
   "pygments_lexer": "ipython2",
   "version": "2.7.12"
  }
 },
 "nbformat": 4,
 "nbformat_minor": 0
}
